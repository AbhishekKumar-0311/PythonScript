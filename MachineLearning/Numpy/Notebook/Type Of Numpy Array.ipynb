{
 "cells": [
  {
   "cell_type": "markdown",
   "metadata": {},
   "source": [
    "## Numpy Array Create"
   ]
  },
  {
   "cell_type": "markdown",
   "metadata": {},
   "source": [
    "### Import Required Module Numpy and Rename "
   ]
  },
  {
   "cell_type": "code",
   "execution_count": 16,
   "metadata": {},
   "outputs": [],
   "source": [
    "import numpy as np"
   ]
  },
  {
   "cell_type": "markdown",
   "metadata": {},
   "source": [
    "#### Numpy Array Using List"
   ]
  },
  {
   "cell_type": "code",
   "execution_count": 17,
   "metadata": {},
   "outputs": [
    {
     "name": "stdout",
     "output_type": "stream",
     "text": [
      "Create Numpy Array Using List:\n",
      " [10 23  2  3  7  8]\n"
     ]
    }
   ],
   "source": [
    "#Define Simple List\n",
    "lst=[10,23,2,3,7,8]\n",
    "\n",
    "#Create numpy array using lst\n",
    "np_array=np.array(lst)\n",
    "\n",
    "#print numpy array\n",
    "print(\"Create Numpy Array Using List:\\n\",np_array)"
   ]
  },
  {
   "cell_type": "markdown",
   "metadata": {},
   "source": [
    "#### Numpy Array Using Tuple"
   ]
  },
  {
   "cell_type": "code",
   "execution_count": 18,
   "metadata": {},
   "outputs": [
    {
     "name": "stdout",
     "output_type": "stream",
     "text": [
      "Create Numpy Array Using Tuple:\n",
      " [10 23  2  3  7  8]\n"
     ]
    }
   ],
   "source": [
    "#Define Simple Tuple\n",
    "tple=(10,23,2,3,7,8)\n",
    "\n",
    "#Create numpy array using tuple\n",
    "np_array=np.array(tple)\n",
    "\n",
    "#print numpy array\n",
    "print(\"Create Numpy Array Using Tuple:\\n\",np_array)"
   ]
  },
  {
   "cell_type": "markdown",
   "metadata": {},
   "source": [
    "#### Numpy String Array"
   ]
  },
  {
   "cell_type": "code",
   "execution_count": 19,
   "metadata": {},
   "outputs": [
    {
     "name": "stdout",
     "output_type": "stream",
     "text": [
      "Create Numpy Array Using Characters :\n",
      " ['P' 'Y' 'T' 'H' 'O' 'N']\n"
     ]
    }
   ],
   "source": [
    "tple=np.array(['P','Y','T','H','O','N'])\n",
    "#Create numpy array using tuple\n",
    "np_array=np.array(tple)\n",
    "\n",
    "#print numpy array\n",
    "print(\"Create Numpy Array Using Characters :\\n\",np_array)"
   ]
  },
  {
   "cell_type": "markdown",
   "metadata": {},
   "source": [
    "#### Create Numpy array using arange() function"
   ]
  },
  {
   "cell_type": "code",
   "execution_count": 20,
   "metadata": {},
   "outputs": [
    {
     "name": "stdout",
     "output_type": "stream",
     "text": [
      "Array With stop Parameter:  [0 1 2 3 4 5]\n",
      "Type of an Array:  int32\n",
      "\n",
      "Array With stop Parameter:  [0. 1. 2. 3. 4. 5.]\n",
      "Type of an Array:  float64\n",
      "\n",
      "Array With Specified Range:  [4 5 6 7 8]\n",
      "Type of an Array:  int32\n",
      "\n",
      "Array of 5 Table:  [ 5 10 15 20 25 30 35 40 45 50]\n",
      "Type of an Array:  int32\n"
     ]
    }
   ],
   "source": [
    "#Simple Array Here Only End is Specified\n",
    "arr=np.arange(6)\n",
    "print(\"Array With stop Parameter: \",arr)\n",
    "print(\"Type of an Array: \",arr.dtype)\n",
    "\n",
    "\n",
    "#Create Float Array\n",
    "arr=np.arange(6.0)\n",
    "print(\"\\nArray With stop Parameter: \",arr)\n",
    "print(\"Type of an Array: \",arr.dtype)\n",
    "\n",
    "\n",
    "#Numpy Array From Specific Range\n",
    "arr=np.arange(4,9) #it will include 4 and exclude 9\n",
    "print(\"\\nArray With Specified Range: \",arr)\n",
    "print(\"Type of an Array: \",arr.dtype)\n",
    "\n",
    "\n",
    "#Simple Numpy array with Step counter(print 5 table)\n",
    "arr=np.arange(5,51,5)\n",
    "print(\"\\nArray of 5 Table: \",arr)\n",
    "print(\"Type of an Array: \",arr.dtype)"
   ]
  },
  {
   "cell_type": "markdown",
   "metadata": {},
   "source": [
    "## important Terminologies Used In Numpy array"
   ]
  },
  {
   "cell_type": "code",
   "execution_count": 21,
   "metadata": {},
   "outputs": [],
   "source": [
    "#Simple list\n",
    "lst=[1,2,3]\n",
    "np_ar=np.array(lst)\n"
   ]
  },
  {
   "cell_type": "markdown",
   "metadata": {},
   "source": [
    "#### Print The Numpy Array"
   ]
  },
  {
   "cell_type": "code",
   "execution_count": 22,
   "metadata": {
    "scrolled": true
   },
   "outputs": [
    {
     "name": "stdout",
     "output_type": "stream",
     "text": [
      "[1 2 3]\n"
     ]
    }
   ],
   "source": [
    "# print Normal numpy array\n",
    "print(np_ar)"
   ]
  },
  {
   "cell_type": "markdown",
   "metadata": {},
   "source": [
    "#### Get Shape of Numpy array"
   ]
  },
  {
   "cell_type": "raw",
   "metadata": {},
   "source": [
    "Use following syntax to get the shape of numpy array\n",
    "numpy_array.shape"
   ]
  },
  {
   "cell_type": "code",
   "execution_count": 23,
   "metadata": {},
   "outputs": [
    {
     "name": "stdout",
     "output_type": "stream",
     "text": [
      "Shape Of an Array(row,columns): (3,)\n"
     ]
    }
   ],
   "source": [
    "#This is 1d Array So Only \n",
    "shape=np_ar.shape\n",
    "print(\"Shape Of an Array(row,columns):\",shape)"
   ]
  },
  {
   "cell_type": "markdown",
   "metadata": {},
   "source": [
    "#### Get  element data types in numpy array"
   ]
  },
  {
   "cell_type": "raw",
   "metadata": {},
   "source": [
    "numpy_array.dtype"
   ]
  },
  {
   "cell_type": "code",
   "execution_count": 24,
   "metadata": {},
   "outputs": [
    {
     "name": "stdout",
     "output_type": "stream",
     "text": [
      "Data Type Of Numpy Array: int32\n"
     ]
    }
   ],
   "source": [
    "data_type=np_ar.dtype\n",
    "print(\"Data Type Of Numpy Array:\",data_type)"
   ]
  },
  {
   "cell_type": "markdown",
   "metadata": {},
   "source": [
    "#### Get Dimenssion Of Numpy Array"
   ]
  },
  {
   "cell_type": "raw",
   "metadata": {},
   "source": [
    "- To get the Dimenssion of numpy array simple call *ndim* with numpy array\n",
    "numpy_array.ndim"
   ]
  },
  {
   "cell_type": "code",
   "execution_count": 25,
   "metadata": {},
   "outputs": [
    {
     "name": "stdout",
     "output_type": "stream",
     "text": [
      "Dimenssion of Numpy Array: 1\n"
     ]
    }
   ],
   "source": [
    "dim=np_ar.ndim\n",
    "print(\"Dimenssion of Numpy Array:\",dim)"
   ]
  },
  {
   "cell_type": "markdown",
   "metadata": {},
   "source": [
    "#### Get Element Count(Size How many Element in numpy array)"
   ]
  },
  {
   "cell_type": "raw",
   "metadata": {},
   "source": [
    "- To simply get the Count of present element in the numpy array use *size* as follows\n",
    "numpy_array.size"
   ]
  },
  {
   "cell_type": "code",
   "execution_count": 26,
   "metadata": {},
   "outputs": [
    {
     "name": "stdout",
     "output_type": "stream",
     "text": [
      "Element Count: 3\n"
     ]
    }
   ],
   "source": [
    "elem_count=np_ar.size\n",
    "print(\"Element Count:\",elem_count)"
   ]
  },
  {
   "cell_type": "markdown",
   "metadata": {},
   "source": [
    "#### Get the element  Size in Bytes"
   ]
  },
  {
   "cell_type": "code",
   "execution_count": 27,
   "metadata": {},
   "outputs": [
    {
     "name": "stdout",
     "output_type": "stream",
     "text": [
      "Item Size in Bytes: 4\n"
     ]
    }
   ],
   "source": [
    "size=np_ar.itemsize\n",
    "print(\"Item Size in Bytes:\",size)"
   ]
  },
  {
   "cell_type": "markdown",
   "metadata": {},
   "source": [
    "## Type Of Numpy Array"
   ]
  },
  {
   "cell_type": "raw",
   "metadata": {},
   "source": [
    "1. Single Dimesnssional\n",
    "2. Two Dimenssional\n",
    "3. Three Dimenssional"
   ]
  },
  {
   "cell_type": "markdown",
   "metadata": {},
   "source": [
    "### 1. Single Dimenssional"
   ]
  },
  {
   "cell_type": "code",
   "execution_count": 28,
   "metadata": {},
   "outputs": [
    {
     "name": "stdout",
     "output_type": "stream",
     "text": [
      "1D Numpy Array:\n",
      " [1 2 3 4]\n",
      "\n",
      "Dimenssion of np_1d:  1\n",
      "Shape Of Array(row,colums) : (4,)\n",
      "Type Of Numpy Array Elements :  int32\n",
      "Item Size:  4\n",
      "Object Size:  4\n"
     ]
    }
   ],
   "source": [
    "import numpy as np\n",
    "#Simple list\n",
    "lst=[1,2,3,4]\n",
    "\n",
    "np_1d=np.array(lst)\n",
    "print(\"1D Numpy Array:\\n\",np_1d)\n",
    "\n",
    "\n",
    "#dimensssions\n",
    "print(\"\\nDimenssion of np_1d: \",np_1d.ndim)\n",
    "\n",
    "#Second value from tuple is blank for shape becaue it is 1d array\n",
    "print(\"Shape Of Array(row,colums) :\",np_1d.shape)\n",
    "\n",
    "#Get Type of Array Elements\n",
    "print(\"Type Of Numpy Array Elements : \",np_1d.dtype)\n",
    "\n",
    "#get Item Size \n",
    "print(\"Item Size: \",np_1d.itemsize)\n",
    "\n",
    "#get objects Size \n",
    "print(\"Object Size: \",np_1d.size)\n",
    "\n"
   ]
  },
  {
   "cell_type": "markdown",
   "metadata": {},
   "source": [
    "### 2.Two Dimensssional"
   ]
  },
  {
   "cell_type": "code",
   "execution_count": 29,
   "metadata": {},
   "outputs": [
    {
     "name": "stdout",
     "output_type": "stream",
     "text": [
      "2D Numpy Array:\n",
      " [[1 2]\n",
      " [3 4]\n",
      " [5 6]]\n",
      "\n",
      "Dimenssion of np_2d:  2\n",
      "Shape Of Array(row,colums) : (3, 2)\n",
      "Type Of Numpy Array Elements :  int32\n",
      "Size of Object Size:  4\n",
      "element Count :  6\n"
     ]
    }
   ],
   "source": [
    "import numpy as np\n",
    "#2d List\n",
    "lst2=[\n",
    "    [1,2],\n",
    "    [3,4],\n",
    "    [5,6]\n",
    "]\n",
    "\n",
    "np_2d=np.array(lst2)\n",
    "print(\"2D Numpy Array:\\n\",np_2d)\n",
    "\n",
    "#dimensssions\n",
    "print(\"\\nDimenssion of np_2d: \",np_2d.ndim)\n",
    "\n",
    "#three rows 2 columns\n",
    "print(\"Shape Of Array(row,colums) :\",np_2d.shape)\n",
    "\n",
    "#Get Type of Array Elements\n",
    "print(\"Type Of Numpy Array Elements : \",np_2d.dtype)\n",
    "\n",
    "#get Item Size \n",
    "print(\"Size of Object Size: \",np_2d.itemsize)\n",
    "\n",
    "#get objects Size \n",
    "print(\"element Count : \",np_2d.size)\n",
    "\n"
   ]
  },
  {
   "cell_type": "markdown",
   "metadata": {},
   "source": [
    "### 3. Three DImenssional"
   ]
  },
  {
   "cell_type": "code",
   "execution_count": 31,
   "metadata": {},
   "outputs": [
    {
     "name": "stdout",
     "output_type": "stream",
     "text": [
      "[[[ 3  4  5]\n",
      "  [ 6  7  8]\n",
      "  [ 9 10 11]]\n",
      "\n",
      " [[ 0  1  2]\n",
      "  [12 13 14]\n",
      "  [15 16 17]]\n",
      "\n",
      " [[18 19 20]\n",
      "  [21 22 23]\n",
      "  [24 25 27]]]\n",
      "\n",
      "Dimenssion of np_3d:  3\n",
      "Shape Of Array(row,colums) : (3, 3, 3)\n",
      "Type Of Numpy Array Elements :  int32\n",
      "Size of Object Size:  4\n",
      "Element Count:  27\n"
     ]
    }
   ],
   "source": [
    "import numpy as np\n",
    "\n",
    "#3d List\n",
    "lst3=[\n",
    "    [\n",
    "        [3,4,5],\n",
    "        [6,7,8],\n",
    "        [9,10,11]\n",
    "    ],\n",
    "    [\n",
    "        [0,1,2],\n",
    "        [12,13,14],\n",
    "        [15,16,17]\n",
    "    ],\n",
    "    [\n",
    "        [18,19,20],\n",
    "        [21,22,23],\n",
    "        [24,25,27]\n",
    "    ]\n",
    "]\n",
    "\n",
    "np_3d=np.array(lst3)\n",
    "print(np_3d)\n",
    "\n",
    "#dimensssions\n",
    "print(\"\\nDimenssion of np_3d: \",np_3d.ndim)\n",
    "\n",
    "#three rows 2 columns\n",
    "print(\"Shape Of Array(row,colums) :\",np_3d.shape)\n",
    "\n",
    "#Get Type of Array Elements\n",
    "print(\"Type Of Numpy Array Elements : \",np_3d.dtype)\n",
    "\n",
    "#get Item Size \n",
    "print(\"Size of Object Size: \",np_3d.itemsize)\n",
    "\n",
    "#get objects Size \n",
    "print(\"Element Count: \",np_3d.size)"
   ]
  }
 ],
 "metadata": {
  "kernelspec": {
   "display_name": "Python 3",
   "language": "python",
   "name": "python3"
  },
  "language_info": {
   "codemirror_mode": {
    "name": "ipython",
    "version": 3
   },
   "file_extension": ".py",
   "mimetype": "text/x-python",
   "name": "python",
   "nbconvert_exporter": "python",
   "pygments_lexer": "ipython3",
   "version": "3.7.3"
  }
 },
 "nbformat": 4,
 "nbformat_minor": 2
}
